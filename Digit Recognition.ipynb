{
 "cells": [
  {
   "cell_type": "code",
   "execution_count": 1,
   "metadata": {
    "id": "rGzi1qetevgg"
   },
   "outputs": [],
   "source": [
    "# import statements\n",
    "import pandas as pd\n",
    "#import certifi\n",
    "import ssl\n",
    "ssl._create_default_https_context = ssl._create_unverified_context\n",
    "from IPython.display import clear_output\n",
    "import numpy as np\n",
    "from matplotlib import pyplot as plt\n",
    "from sklearn.datasets import fetch_openml"
   ]
  },
  {
   "cell_type": "code",
   "execution_count": 2,
   "metadata": {
    "colab": {
     "base_uri": "https://localhost:8080/"
    },
    "id": "719CFDuUezf8",
    "outputId": "80332720-9dd9-4841-e43f-b7161160d490"
   },
   "outputs": [
    {
     "name": "stderr",
     "output_type": "stream",
     "text": [
      "C:\\Users\\khali\\anaconda3\\Lib\\site-packages\\sklearn\\datasets\\_openml.py:1002: FutureWarning: The default value of `parser` will change from `'liac-arff'` to `'auto'` in 1.4. You can set `parser='auto'` to silence this warning. Therefore, an `ImportError` will be raised from 1.4 if the dataset is dense and pandas is not installed. Note that the pandas parser may return different data types. See the Notes Section in fetch_openml's API doc for details.\n",
      "  warn(\n"
     ]
    },
    {
     "name": "stdout",
     "output_type": "stream",
     "text": [
      "X shape: (70000, 784) y shape: (70000,)\n"
     ]
    }
   ],
   "source": [
    "# this cell will take a minute to run depending on your internet connection\n",
    "X, y = fetch_openml('mnist_784', version=1, return_X_y=True) # getting data␣\n",
    "print('X shape:', X.shape, 'y shape:', y.shape)"
   ]
  },
  {
   "cell_type": "code",
   "execution_count": 3,
   "metadata": {
    "colab": {
     "base_uri": "https://localhost:8080/"
    },
    "id": "X9BpZH-3e1l9",
    "outputId": "c1302495-df5e-4057-98d3-94b2893ad45a"
   },
   "outputs": [
    {
     "name": "stdout",
     "output_type": "stream",
     "text": [
      "Shape of data with label 0 : (6903, 28, 28)\n",
      "Shape of data with label 1 : (7877, 28, 28)\n",
      "Shape of data with label 2 : (6990, 28, 28)\n",
      "Shape of data with label 3 : (7141, 28, 28)\n",
      "Shape of data with label 4 : (6824, 28, 28)\n",
      "Shape of data with label 5 : (6313, 28, 28)\n",
      "Shape of data with label 6 : (6876, 28, 28)\n",
      "Shape of data with label 7 : (7293, 28, 28)\n",
      "Shape of data with label 8 : (6825, 28, 28)\n",
      "Shape of data with label 9 : (6958, 28, 28)\n"
     ]
    }
   ],
   "source": [
    "# this cell processes some of the data\n",
    "digits = {j:[] for j in range(10)}\n",
    "X_np = X.to_numpy()\n",
    "for j in range(len(y)): # takes data assigns it into a dictionary\n",
    "    digits[int(y[j])].append(X_np[j].reshape(28,28))\n",
    "digits = {j:np.stack(digits[j]) for j in range(10)} # stack everything to be␣\n",
    "for j in range(10):\n",
    "    print('Shape of data with label', j, ':', digits[j].shape )"
   ]
  },
  {
   "cell_type": "code",
   "execution_count": 4,
   "metadata": {
    "colab": {
     "base_uri": "https://localhost:8080/",
     "height": 380
    },
    "id": "hiirZH20e3_V",
    "outputId": "28a34584-7d8b-429b-fa7c-c22d466eb476"
   },
   "outputs": [
    {
     "data": {
      "image/png": "[encoded data removed]",
      "text/plain": [
       "<Figure size 750x400 with 10 Axes>"
      ]
     },
     "metadata": {},
     "output_type": "display_data"
    }
   ],
   "source": [
    "# plot data here (this should have an output)\n",
    "num_row = 2\n",
    "num_col = 5\n",
    "# plot images\n",
    "fig, axes = plt.subplots(num_row, num_col, figsize=(1.5*num_col,2*num_row))\n",
    "for i in range(10):\n",
    "    ax = axes[i//num_col, i%num_col]\n",
    "    # select current digit\n",
    "    curr_digit = digits[i]\n",
    "    ax.imshow(curr_digit[np.random.randint(curr_digit.shape[0])], cmap='gray')\n",
    "    ax.set_title('Label: {}'.format(i))\n",
    "plt.tight_layout()\n",
    "plt.show()"
   ]
  },
  {
   "cell_type": "code",
   "execution_count": 5,
   "metadata": {
    "id": "pQZvb9QSe6k1"
   },
   "outputs": [],
   "source": [
    "# create dataset here (essentially just create a numpy array of 1's and -1's␣\n",
    "def output_data(num1, num2):\n",
    "  # gathers training and testing data for num1 & num2 type data\n",
    "  x_train = np.concatenate([digits[num1][:500].reshape(500,28*28),\n",
    "  digits[num2][:500].reshape(500,28*28)])\n",
    "  y_train = np.concatenate([np.ones(500), -1*np.ones(500)]).reshape(1000,1)\n",
    "  x_test = np.concatenate([digits[num1][500:1000].reshape(500,28*28),\n",
    "  digits[num2][500:1000].reshape(500,28*28)])\n",
    "  max_val = np.max(x_train)\n",
    "  y_test = y_train\n",
    "  return x_train/max_val, y_train, x_test/max_val, y_test"
   ]
  },
  {
   "cell_type": "code",
   "execution_count": null,
   "metadata": {
    "colab": {
     "base_uri": "https://localhost:8080/",
     "height": 507
    },
    "id": "RR8hHyq-e824",
    "outputId": "7b9f8c4d-99c6-4277-ad3b-6e98bdb6762b"
   },
   "outputs": [],
   "source": [
    "w = np.random.normal(size=(784,1))\n",
    "w = np.zeros((784,1))\n",
    "w = np.ones((784, 1))\n",
    "\n",
    "def grad_F(w, x_train, y_train):\n",
    "  exp_val = np.exp(-y_train*(x_train @ w))\n",
    "  grad = (-exp_val/(1+exp_val)) * y_train * x_train\n",
    "  return grad.transpose().mean(axis=1).reshape((28*28,1))\n",
    "\n",
    "def F(w, x_train, y_train):\n",
    "  F = np.log(1+np.exp(-y_train*(x_train @ w))).mean()\n",
    "  return F\n",
    "\n",
    "def gradient_descent_nesterov(w, T=200, mu=1e-4, num1=0, num2=1, plot=True):\n",
    "    x_train, y_train, x_test, y_test = output_data(num1, num2)\n",
    "    F_history = []\n",
    "    w_1 = np.zeros(len(w))\n",
    "    beta = .2\n",
    "    for t in range(T):\n",
    "        F_history.append(F(w,x_train,y_train))\n",
    "        w_1 = beta * w_1\n",
    "        y = w + w_1\n",
    "        w = w_1 - mu*grad_F(w, x_train, y_train)\n",
    "    if (t%500) == 0:\n",
    "        print('Finished', t, 'iterations...')\n",
    "        clear_output(wait=True)\n",
    "        #mu = mu/10\n",
    "    if plot:\n",
    "        plt.plot(range(T), F_history)\n",
    "        plt.xlabel('Iterations')\n",
    "        plt.ylabel('Training error')\n",
    "        plt.title('GD Loss for '+str(num1)+ '&'+str(num2))\n",
    "    return w, F_history, x_train, y_train, x_test, y_test\n",
    "T_max = 10000\n",
    "w_star, F_hist, x_train, y_train, x_test, y_test = gradient_descent_nesterov(w,T=T_max,mu=1e-4, num1=4, num2=9)\n",
    "\n",
    "def classify(w,x,y):\n",
    "    pred  = np.sign(x@w_star)*y\n",
    "    error_rate = np.sum(np.array(pred) < 0)/len(pred)\n",
    "    return pred, error_rate\n",
    "\n",
    "pred_train, e_rate_train = classify(w_star, x_train, y_train)\n",
    "pred_test, e_rate_test = classify(w_star, x_test, y_test)\n",
    "print('Training error rate:', e_rate_train)\n",
    "print('Test error rate:', e_rate_test)"
   ]
  }
 ],
 "metadata": {
  "colab": {
   "provenance": []
  },
  "kernelspec": {
   "display_name": "Python 3 (ipykernel)",
   "language": "python",
   "name": "python3"
  },
  "language_info": {
   "name": "python"
  }
 },
 "nbformat": 4,
 "nbformat_minor": 1
}
